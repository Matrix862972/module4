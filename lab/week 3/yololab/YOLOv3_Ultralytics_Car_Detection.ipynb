{
 "cells": [
  {
   "cell_type": "markdown",
   "id": "102cf885",
   "metadata": {},
   "source": [
    "# 🚗 YOLOv3 Car Detection using Ultralytics\n",
    "\n",
    "This notebook uses the modern [Ultralytics](https://github.com/ultralytics/ultralytics) library to perform object detection with **YOLOv3** on input images. It's simple, fast, and works with TensorFlow and PyTorch backends."
   ]
  },
  {
   "cell_type": "code",
   "execution_count": 1,
   "id": "a0663d30",
   "metadata": {},
   "outputs": [
    {
     "name": "stderr",
     "output_type": "stream",
     "text": [
      "\n",
      "[notice] A new release of pip is available: 24.2 -> 25.1.1\n",
      "[notice] To update, run: python.exe -m pip install --upgrade pip\n"
     ]
    }
   ],
   "source": [
    "!pip install -q ultralytics"
   ]
  },
  {
   "cell_type": "code",
   "execution_count": 1,
   "id": "269ae155",
   "metadata": {},
   "outputs": [],
   "source": [
    "\n",
    "from ultralytics import YOLO\n",
    "from PIL import Image\n",
    "import matplotlib.pyplot as plt\n"
   ]
  },
  {
   "cell_type": "code",
   "execution_count": 2,
   "id": "fc0f2dba",
   "metadata": {},
   "outputs": [
    {
     "name": "stdout",
     "output_type": "stream",
     "text": [
      "PRO TIP  Replace 'model=yolov3.pt' with new 'model=yolov3u.pt'.\n",
      "YOLOv5 'u' models are trained with https://github.com/ultralytics/ultralytics and feature improved performance vs standard YOLOv5 models trained with https://github.com/ultralytics/yolov5.\n",
      "\n"
     ]
    }
   ],
   "source": [
    "\n",
    "# Load the pretrained YOLOv3 model (trained on COCO dataset with 80 classes)\n",
    "model = YOLO(\"yolov3.pt\")\n"
   ]
  },
  {
   "cell_type": "code",
   "execution_count": 7,
   "id": "5a99f97d",
   "metadata": {},
   "outputs": [
    {
     "name": "stdout",
     "output_type": "stream",
     "text": [
      "\n",
      "image 1/1 d:\\Python\\Andrew Ng Deep Learning Course\\module 4\\lab\\week 3\\yololab\\images\\giraffe.jpg: 640x640 1 zebra, 1 giraffe, 1315.3ms\n",
      "Speed: 10.1ms preprocess, 1315.3ms inference, 1.5ms postprocess per image at shape (1, 3, 640, 640)\n"
     ]
    }
   ],
   "source": [
    "\n",
    "# Load and run detection on an image\n",
    "image_path = \"images/giraffe.jpg\"  # 🔁 Change this to your image path\n",
    "results = model(image_path)\n",
    "\n",
    "# Show image with bounding boxes\n",
    "results[0].show()\n"
   ]
  },
  {
   "cell_type": "code",
   "execution_count": 5,
   "id": "0d511460",
   "metadata": {},
   "outputs": [
    {
     "name": "stdout",
     "output_type": "stream",
     "text": [
      "car: 0.94\n",
      "car: 0.93\n",
      "car: 0.92\n",
      "car: 0.90\n",
      "bus: 0.89\n",
      "car: 0.87\n",
      "car: 0.85\n",
      "car: 0.75\n",
      "truck: 0.60\n",
      "car: 0.50\n",
      "car: 0.49\n",
      "car: 0.48\n",
      "traffic light: 0.44\n",
      "car: 0.38\n",
      "car: 0.32\n",
      "car: 0.30\n",
      "car: 0.26\n",
      "car: 0.25\n"
     ]
    }
   ],
   "source": [
    "\n",
    "# Optional: Print detected objects and confidence scores\n",
    "for box in results[0].boxes:\n",
    "    cls = int(box.cls[0])\n",
    "    conf = float(box.conf[0])\n",
    "    label = model.names[cls]\n",
    "    print(f\"{label}: {conf:.2f}\")\n"
   ]
  },
  {
   "cell_type": "markdown",
   "id": "928eab97",
   "metadata": {},
   "source": [
    "## ✅ Summary\n",
    "- This notebook replaces the older YOLOv2 implementation with YOLOv3 using `ultralytics`.\n",
    "- It allows object detection with just a few lines of code.\n",
    "- You can swap `yolov3.pt` with other models like `yolov5s.pt` or `yolov8n.pt` for better results."
   ]
  }
 ],
 "metadata": {
  "kernelspec": {
   "display_name": "Python 3",
   "language": "python",
   "name": "python3"
  },
  "language_info": {
   "codemirror_mode": {
    "name": "ipython",
    "version": 3
   },
   "file_extension": ".py",
   "mimetype": "text/x-python",
   "name": "python",
   "nbconvert_exporter": "python",
   "pygments_lexer": "ipython3",
   "version": "3.12.5"
  }
 },
 "nbformat": 4,
 "nbformat_minor": 5
}
